{
 "cells": [
  {
   "cell_type": "code",
   "execution_count": null,
   "metadata": {
    "application/vnd.databricks.v1+cell": {
     "cellMetadata": {
      "byteLimit": 2048000,
      "rowLimit": 10000
     },
     "inputWidgets": {},
     "nuid": "52c6a776-46df-4713-9092-d23abe3ce707",
     "showTitle": false,
     "title": ""
    }
   },
   "outputs": [],
   "source": [
    "from pyspark.sql import SparkSession\n",
    "from pyspark.sql.functions import current_date\n",
    "\n",
    "def SCD2Function(catalog_name, db_name, table_name_stage, table_name_dim, catalog_source,db_name_source, table_name_source, column_names):\n",
    "    # Start Spark session if not already started\n",
    "    spark = SparkSession.builder.appName(\"SCD2 Function\").getOrCreate()\n",
    "\n",
    "    # Use the specified catalog and database\n",
    "    spark.sql(f\"use catalog {catalog_name}\")\n",
    "    spark.sql(f\"use schema {db_name}\")\n",
    "\n",
    "    # Drop the staging table if it exists and create a new one\n",
    "    spark.sql(f\"DROP TABLE IF EXISTS {table_name_stage};\")\n",
    "    column_definitions = \", \".join([f\"{col} STRING\" for col in column_names])\n",
    "    spark.sql(f\"CREATE TABLE {table_name_stage} ({column_definitions}) USING DELTA;\")\n",
    "\n",
    "    # Truncate the staging table\n",
    "    spark.sql(f\"TRUNCATE TABLE {table_name_stage};\")\n",
    "\n",
    "    # Insert data into the staging table\n",
    "    insert_query = f\"INSERT INTO {table_name_stage} SELECT \" + \", \".join([f\"TRY_CAST({col} AS STRING)\" for col in column_names]) + f\" FROM {catalog_source}.{db_name_source}.{table_name_source};\"\n",
    "    spark.sql(insert_query)\n",
    "\n",
    "    # Perform the merge for SCD Type 2\n",
    "    merge_query = f\"\"\"\n",
    "        MERGE INTO {table_name_dim} a\n",
    "        USING (\n",
    "            WITH q1 AS (\n",
    "                SELECT * FROM {table_name_dim} WHERE {column_names[-1]} <> 'inactive'\n",
    "            )\n",
    "            SELECT {column_names[0]} AS mergeKey, * FROM {table_name_stage}\n",
    "            UNION ALL\n",
    "            SELECT NULL AS mergeKey, a.* \n",
    "            FROM {table_name_stage} a\n",
    "            JOIN q1 b ON a.{column_names[0]} = b.{column_names[0]} \n",
    "            WHERE b.{column_names[-1]} <> 'inactive' AND (\n",
    "                { ' OR '.join([f'a.{col} != b.{col}' for col in column_names[1:]]) }\n",
    "            )\n",
    "        ) b \n",
    "        ON a.{column_names[0]} = b.mergeKey \n",
    "        WHEN MATCHED AND (\n",
    "            { ' OR '.join([f'b.{col} != a.{col}' for col in column_names[1:]]) }\n",
    "        ) THEN \n",
    "            UPDATE SET \n",
    "                {column_names[-1]} = 'inactive',\n",
    "                a.end_date = current_date() - 1 \n",
    "        WHEN NOT MATCHED THEN \n",
    "            INSERT ({', '.join(column_names)}, start_date, end_date) \n",
    "            VALUES ({', '.join(column_names)}, current_date(), '9999-12-31');\n",
    "    \"\"\"\n",
    "    \n",
    "    spark.sql(merge_query)\n",
    "    \n",
    "    # Optionally display the updated dimension table\n",
    "    df = spark.sql(f\"SELECT * FROM {table_name_dim}\")\n",
    "    df.show()\n",
    "\n",
    "# Example usage:\n",
    "column_names = [\"id\", \"body_html\", \"title\", \"handle\", \"product_type\", \"vendor\", \"created_at\", \"status\"]\n",
    "SCD2Function(\"streaming\", \"silver\", \"stg_product\", \"dim_product\", \n",
    "              \"hive_metastore\",\"fivetran_test\", \"product\", column_names)\n"
   ]
  },
  {
   "cell_type": "markdown",
   "metadata": {
    "application/vnd.databricks.v1+cell": {
     "cellMetadata": {
      "byteLimit": 2048000,
      "rowLimit": 10000
     },
     "inputWidgets": {},
     "nuid": "2ca13109-8971-49bf-ba85-f613f94dd8af",
     "showTitle": false,
     "title": ""
    }
   },
   "source": []
  }
 ],
 "metadata": {
  "application/vnd.databricks.v1+notebook": {
   "dashboards": [],
   "environmentMetadata": null,
   "language": "python",
   "notebookMetadata": {
    "mostRecentlyExecutedCommandWithImplicitDF": {
     "commandId": 2810425680480660,
     "dataframes": [
      "_sqldf"
     ]
    },
    "pythonIndentUnit": 4
   },
   "notebookName": "(FV) SCD2 function",
   "widgets": {}
  },
  "language_info": {
   "name": "python"
  }
 },
 "nbformat": 4,
 "nbformat_minor": 0
}
