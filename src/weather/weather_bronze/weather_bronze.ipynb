{
 "cells": [
  {
   "cell_type": "markdown",
   "metadata": {
    "application/vnd.databricks.v1+cell": {
     "cellMetadata": {
      "byteLimit": 2048000,
      "rowLimit": 10000
     },
     "inputWidgets": {},
     "nuid": "e1a287c0-1c5e-4649-ad56-a7b03707a663",
     "showTitle": false,
     "title": ""
    }
   },
   "source": [
    "Importing the libraries."
   ]
  },
  {
   "cell_type": "code",
   "execution_count": 0,
   "metadata": {
    "application/vnd.databricks.v1+cell": {
     "cellMetadata": {
      "byteLimit": 2048000,
      "rowLimit": 10000
     },
     "inputWidgets": {},
     "nuid": "d376948f-980e-4887-a319-45a525172d43",
     "showTitle": false,
     "title": ""
    }
   },
   "outputs": [],
   "source": [
    "from pyspark.sql.functions import *\n",
    "from pyspark.sql.types import *\n",
    "\n",
    "from pyspark.sql.window import Window\n",
    "from delta.tables import DeltaTable\n",
    "from pyspark.sql.types import StructType, StructField, StringType, DoubleType, LongType, TimestampType\n",
    "from pyspark.dbutils import DBUtils"
   ]
  },
  {
   "cell_type": "markdown",
   "metadata": {
    "application/vnd.databricks.v1+cell": {
     "cellMetadata": {
      "byteLimit": 2048000,
      "rowLimit": 10000
     },
     "inputWidgets": {},
     "nuid": "6b5cc9f6-21cd-4201-a324-e97122c8203f",
     "showTitle": false,
     "title": ""
    }
   },
   "source": [
    "The code block below creates the catalog and schemas for our solution. \n",
    "\n",
    "The approach utilises a multi-hop data storage architecture (medallion), consisting of bronze, silver, and gold schemas within a 'streaming' catalog. "
   ]
  },
  {
   "cell_type": "code",
   "execution_count": 0,
   "metadata": {
    "application/vnd.databricks.v1+cell": {
     "cellMetadata": {
      "byteLimit": 2048000,
      "rowLimit": 10000
     },
     "inputWidgets": {},
     "nuid": "3dab5bd2-8150-4afc-837a-8362f7d5438f",
     "showTitle": false,
     "title": ""
    }
   },
   "outputs": [],
   "source": [
    "# Databricks notebook source\n",
    "\n",
    "\n",
    "# COMMAND ----------\n",
    "\n",
    "catalog_name = \"streaming1\"\n",
    "db_name = \"bronze\"\n",
    "table_name='weather'\n",
    "eventHubName1 = \"streamingeventhubs\"\n",
    "key_vault='testScope'\n",
    "connector='testsecrettyler'\n",
    "\n",
    "\n",
    "\n",
    "dbutils.widgets.dropdown(\"trigger_available_now\", \"False\", [\"True\", \"False\"])\n",
    "trigger_available_now = dbutils.widgets.get(\"trigger_available_now\") == \"True\"\n",
    "\n",
    "notebook_name = DBUtils(spark).notebook.entry_point.getDbutils().notebook().getContext().notebookPath().get().split(\"/\")[-1].split(\".\")[0]\n",
    "checkpoint_path = f\"/Volumes/{catalog_name}/{db_name}/checkpoints/{notebook_name}/\"\n",
    "\n",
    "\n"
   ]
  },
  {
   "cell_type": "code",
   "execution_count": 0,
   "metadata": {
    "application/vnd.databricks.v1+cell": {
     "cellMetadata": {
      "byteLimit": 2048000,
      "rowLimit": 10000
     },
     "inputWidgets": {},
     "nuid": "c5c7fdca-f325-4930-93d4-0718f305f4c2",
     "showTitle": false,
     "title": ""
    }
   },
   "outputs": [
    {
     "output_type": "stream",
     "name": "stdout",
     "output_type": "stream",
     "text": [
      "check if catalog already exists\n"
     ]
    }
   ],
   "source": [
    "try:\n",
    "    spark.sql(f\"create catalog {catalog_name} managed location 'abfss://streamingdata-demo@dataengineerdemoweather.dfs.core.windows.net/';\")\n",
    "except:\n",
    "    print('check if catalog already exists')"
   ]
  },
  {
   "cell_type": "code",
   "execution_count": 0,
   "metadata": {
    "application/vnd.databricks.v1+cell": {
     "cellMetadata": {
      "byteLimit": 2048000,
      "implicitDf": true,
      "rowLimit": 10000
     },
     "inputWidgets": {},
     "nuid": "49397d51-5412-4079-9159-06307954a7c1",
     "showTitle": false,
     "title": ""
    }
   },
   "outputs": [],
   "source": [
    "\n",
    "try:\n",
    "    spark.sql(f\"create schema if not exists {catalog_name}.{db_name} ;\") \n",
    "except:\n",
    "    print('check if bronze schema already exists')\n",
    "\n",
    "try:\n",
    "    spark.sql(f\"CREATE VOLUME IF NOT EXISTS {catalog_name}.{db_name}.checkpoints;\") \n",
    "except:\n",
    "    print('check if bronze checkpoints already exists')\n",
    "\n",
    "\n"
   ]
  },
  {
   "cell_type": "markdown",
   "metadata": {
    "application/vnd.databricks.v1+cell": {
     "cellMetadata": {
      "byteLimit": 2048000,
      "rowLimit": 10000
     },
     "inputWidgets": {},
     "nuid": "90b61da0-3b55-4941-8436-2411646fa4f9",
     "showTitle": false,
     "title": ""
    }
   },
   "source": [
    "#### Bronze Layer"
   ]
  },
  {
   "cell_type": "markdown",
   "metadata": {
    "application/vnd.databricks.v1+cell": {
     "cellMetadata": {
      "byteLimit": 2048000,
      "rowLimit": 10000
     },
     "inputWidgets": {},
     "nuid": "8806de51-7d1e-4dcc-8981-27f5a3447f96",
     "showTitle": false,
     "title": ""
    }
   },
   "source": [
    "Set up Azure Event hubs connection string."
   ]
  },
  {
   "cell_type": "code",
   "execution_count": 0,
   "metadata": {
    "application/vnd.databricks.v1+cell": {
     "cellMetadata": {
      "byteLimit": 2048000,
      "rowLimit": 10000
     },
     "inputWidgets": {},
     "nuid": "3397f5f1-841b-4911-9099-8b99b92ab7c0",
     "showTitle": false,
     "title": ""
    }
   },
   "outputs": [],
   "source": [
    "# Config\n",
    "# Replace with your Event Hub namespace, name, and key\n",
    "connectionString = dbutils.secrets.get(key_vault,connector)\n",
    "eventHubName =eventHubName1\n",
    "\n",
    "\n",
    "ehConf = {\n",
    "  'eventhubs.connectionString' : sc._jvm.org.apache.spark.eventhubs.EventHubsUtils.encrypt(connectionString),\n",
    "  'eventhubs.eventHubName': eventHubName\n",
    "}"
   ]
  },
  {
   "cell_type": "markdown",
   "metadata": {
    "application/vnd.databricks.v1+cell": {
     "cellMetadata": {
      "byteLimit": 2048000,
      "rowLimit": 10000
     },
     "inputWidgets": {},
     "nuid": "37b28ff3-52b8-4a3f-ad67-758854096a2b",
     "showTitle": false,
     "title": ""
    }
   },
   "source": [
    "Reading and writing the stream to the bronze layer."
   ]
  },
  {
   "cell_type": "code",
   "execution_count": 0,
   "metadata": {
    "application/vnd.databricks.v1+cell": {
     "cellMetadata": {
      "byteLimit": 2048000,
      "rowLimit": 10000
     },
     "inputWidgets": {},
     "nuid": "3ab57af3-36c7-4ffa-b13f-a833d7a2dc53",
     "showTitle": false,
     "title": ""
    }
   },
   "outputs": [
    {
     "output_type": "display_data",
     "data": {
      "text/html": [
       "<style scoped>\n",
       "  .table-result-container {\n",
       "    max-height: 300px;\n",
       "    overflow: auto;\n",
       "  }\n",
       "  table, th, td {\n",
       "    border: 1px solid black;\n",
       "    border-collapse: collapse;\n",
       "  }\n",
       "  th, td {\n",
       "    padding: 5px;\n",
       "  }\n",
       "  th {\n",
       "    text-align: left;\n",
       "  }\n",
       "</style><div class='table-result-container'><table class='table-result'><thead style='background-color: white'><tr><th>body</th><th>partition</th><th>offset</th><th>sequenceNumber</th><th>enqueuedTime</th><th>publisher</th><th>partitionKey</th><th>properties</th><th>systemProperties</th></tr></thead><tbody><tr><td>eyJ0ZW1wZXJhdHVyZSI6ICIyMlx1MjU5MUMiLCAidGltZSI6ICJNb25kYXkgODo0Mlx1MjAyZnAubS4iLCAic2t5Y29uZGl0aW9uIjogIkNsZWFyIn0=</td><td>0</td><td>12884915656</td><td>73</td><td>2024-09-10T00:43:14.138Z</td><td>null</td><td>null</td><td>Map()</td><td>Map(x-opt-sequence-number-epoch -> -1)</td></tr><tr><td>eyJ0ZW1wZXJhdHVyZSI6ICIyMlx1MjU5MUMiLCAidGltZSI6ICJNb25kYXkgODo0M1x1MjAyZnAubS4iLCAic2t5Y29uZGl0aW9uIjogIkNsZWFyIn0=</td><td>0</td><td>12884915808</td><td>74</td><td>2024-09-10T00:44:23.937Z</td><td>null</td><td>null</td><td>Map()</td><td>Map(x-opt-sequence-number-epoch -> -1)</td></tr><tr><td>eyJ0ZW1wZXJhdHVyZSI6ICIyMlx1MDBiMEMiLCAidGltZSI6ICJNb25kYXkgODo0NFx1MjAyZnAubS4iLCAic2t5Y29uZGl0aW9uIjogIkNsZWFyIn0=</td><td>0</td><td>12884915960</td><td>75</td><td>2024-09-10T00:45:34.033Z</td><td>null</td><td>null</td><td>Map()</td><td>Map(x-opt-sequence-number-epoch -> -1)</td></tr><tr><td>eyJ0ZW1wZXJhdHVyZSI6ICIyMlx1MjU5MUMiLCAidGltZSI6ICJNb25kYXkgODo0NVx1MjAyZnAubS4iLCAic2t5Y29uZGl0aW9uIjogIkNsZWFyIn0=</td><td>0</td><td>12884916112</td><td>76</td><td>2024-09-10T00:46:44.175Z</td><td>null</td><td>null</td><td>Map()</td><td>Map(x-opt-sequence-number-epoch -> -1)</td></tr><tr><td>eyJ0ZW1wZXJhdHVyZSI6ICIyMlx1MjU5MUMiLCAidGltZSI6ICJNb25kYXkgODo0Nlx1MjAyZnAubS4iLCAic2t5Y29uZGl0aW9uIjogIkNsZWFyIn0=</td><td>0</td><td>12884916264</td><td>77</td><td>2024-09-10T00:47:55.287Z</td><td>null</td><td>null</td><td>Map()</td><td>Map(x-opt-sequence-number-epoch -> -1)</td></tr><tr><td>eyJ0ZW1wZXJhdHVyZSI6ICIyMlx1MjU5MUMiLCAidGltZSI6ICJNb25kYXkgODo0OFx1MjAyZnAubS4iLCAic2t5Y29uZGl0aW9uIjogIkNsZWFyIn0=</td><td>0</td><td>12884916416</td><td>78</td><td>2024-09-10T00:49:05.805Z</td><td>null</td><td>null</td><td>Map()</td><td>Map(x-opt-sequence-number-epoch -> -1)</td></tr><tr><td>eyJ0ZW1wZXJhdHVyZSI6ICIyMlx1MDBiMEMiLCAidGltZSI6ICJNb25kYXkgODo0OVx1MjAyZnAubS4iLCAic2t5Y29uZGl0aW9uIjogIkNsZWFyIn0=</td><td>0</td><td>12884916568</td><td>79</td><td>2024-09-10T00:50:15.934Z</td><td>null</td><td>null</td><td>Map()</td><td>Map(x-opt-sequence-number-epoch -> -1)</td></tr><tr><td>eyJ0ZW1wZXJhdHVyZSI6ICIyMlx1MDBiMEMiLCAidGltZSI6ICJNb25kYXkgODo1MFx1MjAyZnAubS4iLCAic2t5Y29uZGl0aW9uIjogIkNsZWFyIn0=</td><td>0</td><td>12884916720</td><td>80</td><td>2024-09-10T00:51:26.39Z</td><td>null</td><td>null</td><td>Map()</td><td>Map(x-opt-sequence-number-epoch -> -1)</td></tr></tbody></table></div>"
      ]
     },
     "metadata": {
      "application/vnd.databricks.v1+output": {
       "addedWidgets": {},
       "aggData": [],
       "aggError": "",
       "aggOverflow": false,
       "aggSchema": [],
       "aggSeriesLimitReached": false,
       "aggType": "",
       "arguments": {},
       "columnCustomDisplayInfos": {},
       "data": [
        [
         "eyJ0ZW1wZXJhdHVyZSI6ICIyMlx1MjU5MUMiLCAidGltZSI6ICJNb25kYXkgODo0Mlx1MjAyZnAubS4iLCAic2t5Y29uZGl0aW9uIjogIkNsZWFyIn0=",
         "0",
         "12884915656",
         73,
         "2024-09-10T00:43:14.138Z",
         null,
         null,
         {},
         {
          "x-opt-sequence-number-epoch": "-1"
         }
        ],
        [
         "eyJ0ZW1wZXJhdHVyZSI6ICIyMlx1MjU5MUMiLCAidGltZSI6ICJNb25kYXkgODo0M1x1MjAyZnAubS4iLCAic2t5Y29uZGl0aW9uIjogIkNsZWFyIn0=",
         "0",
         "12884915808",
         74,
         "2024-09-10T00:44:23.937Z",
         null,
         null,
         {},
         {
          "x-opt-sequence-number-epoch": "-1"
         }
        ],
        [
         "eyJ0ZW1wZXJhdHVyZSI6ICIyMlx1MDBiMEMiLCAidGltZSI6ICJNb25kYXkgODo0NFx1MjAyZnAubS4iLCAic2t5Y29uZGl0aW9uIjogIkNsZWFyIn0=",
         "0",
         "12884915960",
         75,
         "2024-09-10T00:45:34.033Z",
         null,
         null,
         {},
         {
          "x-opt-sequence-number-epoch": "-1"
         }
        ],
        [
         "eyJ0ZW1wZXJhdHVyZSI6ICIyMlx1MjU5MUMiLCAidGltZSI6ICJNb25kYXkgODo0NVx1MjAyZnAubS4iLCAic2t5Y29uZGl0aW9uIjogIkNsZWFyIn0=",
         "0",
         "12884916112",
         76,
         "2024-09-10T00:46:44.175Z",
         null,
         null,
         {},
         {
          "x-opt-sequence-number-epoch": "-1"
         }
        ],
        [
         "eyJ0ZW1wZXJhdHVyZSI6ICIyMlx1MjU5MUMiLCAidGltZSI6ICJNb25kYXkgODo0Nlx1MjAyZnAubS4iLCAic2t5Y29uZGl0aW9uIjogIkNsZWFyIn0=",
         "0",
         "12884916264",
         77,
         "2024-09-10T00:47:55.287Z",
         null,
         null,
         {},
         {
          "x-opt-sequence-number-epoch": "-1"
         }
        ],
        [
         "eyJ0ZW1wZXJhdHVyZSI6ICIyMlx1MjU5MUMiLCAidGltZSI6ICJNb25kYXkgODo0OFx1MjAyZnAubS4iLCAic2t5Y29uZGl0aW9uIjogIkNsZWFyIn0=",
         "0",
         "12884916416",
         78,
         "2024-09-10T00:49:05.805Z",
         null,
         null,
         {},
         {
          "x-opt-sequence-number-epoch": "-1"
         }
        ],
        [
         "eyJ0ZW1wZXJhdHVyZSI6ICIyMlx1MDBiMEMiLCAidGltZSI6ICJNb25kYXkgODo0OVx1MjAyZnAubS4iLCAic2t5Y29uZGl0aW9uIjogIkNsZWFyIn0=",
         "0",
         "12884916568",
         79,
         "2024-09-10T00:50:15.934Z",
         null,
         null,
         {},
         {
          "x-opt-sequence-number-epoch": "-1"
         }
        ],
        [
         "eyJ0ZW1wZXJhdHVyZSI6ICIyMlx1MDBiMEMiLCAidGltZSI6ICJNb25kYXkgODo1MFx1MjAyZnAubS4iLCAic2t5Y29uZGl0aW9uIjogIkNsZWFyIn0=",
         "0",
         "12884916720",
         80,
         "2024-09-10T00:51:26.39Z",
         null,
         null,
         {},
         {
          "x-opt-sequence-number-epoch": "-1"
         }
        ]
       ],
       "datasetInfos": [],
       "dbfsResultPath": null,
       "isJsonSchema": true,
       "metadata": {
        "isDbfsCommandResult": false
       },
       "overflow": false,
       "plotOptions": {
        "customPlotOptions": {},
        "displayType": "table",
        "pivotAggregation": null,
        "pivotColumns": null,
        "xColumns": null,
        "yColumns": null
       },
       "removedWidgets": [],
       "schema": [
        {
         "metadata": "{}",
         "name": "body",
         "type": "\"binary\""
        },
        {
         "metadata": "{}",
         "name": "partition",
         "type": "\"string\""
        },
        {
         "metadata": "{}",
         "name": "offset",
         "type": "\"string\""
        },
        {
         "metadata": "{}",
         "name": "sequenceNumber",
         "type": "\"long\""
        },
        {
         "metadata": "{}",
         "name": "enqueuedTime",
         "type": "\"timestamp\""
        },
        {
         "metadata": "{}",
         "name": "publisher",
         "type": "\"string\""
        },
        {
         "metadata": "{}",
         "name": "partitionKey",
         "type": "\"string\""
        },
        {
         "metadata": "{}",
         "name": "properties",
         "type": "{\"type\":\"map\",\"keyType\":\"string\",\"valueType\":\"string\",\"valueContainsNull\":true}"
        },
        {
         "metadata": "{}",
         "name": "systemProperties",
         "type": "{\"type\":\"map\",\"keyType\":\"string\",\"valueType\":\"string\",\"valueContainsNull\":true}"
        }
       ],
       "type": "table"
      }
     },
     "output_type": "display_data"
    }
   ],
   "source": [
    "# Reading stream: Load data from Azure Event Hub into DataFrame 'df' using the previously configured settings\n",
    "df = spark.readStream \\\n",
    "    .format(\"eventhubs\") \\\n",
    "    .options(**ehConf) \\\n",
    "    .load() \\\n",
    "\n",
    "# Displaying stream: Show the incoming streaming data for visualization and debugging purposes\n",
    "df.display()\n",
    "\n",
    "# Writing stream: Persist the streaming data to a Delta table 'streaming.bronze.weather' in 'append' mode with checkpointing\n",
    "df.writeStream\\\n",
    "    .option(\"checkpointLocation\", checkpoint_path)\\\n",
    "    .outputMode(\"append\")\\\n",
    "    .format(\"delta\")\\\n",
    "    .toTable(f\"{catalog_name}.{db_name}.{table_name}\")"
   ]
  }
 ],
 "metadata": {
  "application/vnd.databricks.v1+notebook": {
   "dashboards": [],
   "environmentMetadata": {
    "base_environment": "",
    "client": "1"
   },
   "language": "python",
   "notebookMetadata": {
    "mostRecentlyExecutedCommandWithImplicitDF": {
     "commandId": 4016826182764860,
     "dataframes": [
      "_sqldf"
     ]
    },
    "pythonIndentUnit": 4
   },
   "notebookName": "(weather) (bronze FV) Real-time Data Processing Weather",
   "widgets": {
    "trigger_available_now": {
     "currentValue": "True",
     "nuid": "7456c25e-9327-4b82-b33d-7ef8475d9e97",
     "typedWidgetInfo": {
      "autoCreated": false,
      "defaultValue": "False",
      "label": null,
      "name": "trigger_available_now",
      "options": {
       "widgetDisplayType": "Dropdown",
       "choices": [
        "True",
        "False"
       ],
       "fixedDomain": true,
       "multiselect": false
      },
      "parameterDataType": "String"
     },
     "widgetInfo": {
      "widgetType": "dropdown",
      "defaultValue": "False",
      "label": null,
      "name": "trigger_available_now",
      "options": {
       "widgetType": "dropdown",
       "autoCreated": null,
       "choices": [
        "True",
        "False"
       ]
      }
     }
    }
   }
  },
  "language_info": {
   "name": "python"
  }
 },
 "nbformat": 4,
 "nbformat_minor": 0
}
