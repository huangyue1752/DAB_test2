{
 "cells": [
  {
   "cell_type": "markdown",
   "metadata": {
    "application/vnd.databricks.v1+cell": {
     "cellMetadata": {
      "byteLimit": 2048000,
      "rowLimit": 10000
     },
     "inputWidgets": {},
     "nuid": "e1a287c0-1c5e-4649-ad56-a7b03707a663",
     "showTitle": false,
     "title": ""
    }
   },
   "source": [
    "Importing the libraries."
   ]
  },
  {
   "cell_type": "code",
   "execution_count": 0,
   "metadata": {
    "application/vnd.databricks.v1+cell": {
     "cellMetadata": {
      "byteLimit": 2048000,
      "rowLimit": 10000
     },
     "inputWidgets": {},
     "nuid": "d376948f-980e-4887-a319-45a525172d43",
     "showTitle": false,
     "title": ""
    }
   },
   "outputs": [],
   "source": [
    "from pyspark.sql.functions import *\n",
    "from pyspark.sql import functions as F\n",
    "from pyspark.sql.types import *\n",
    "\n",
    "\n",
    "from pyspark.sql.window import Window\n",
    "from delta.tables import DeltaTable\n",
    "from pyspark.sql.types import StructType, StructField, StringType, DoubleType, LongType, TimestampType\n",
    "from pyspark.dbutils import DBUtils"
   ]
  },
  {
   "cell_type": "code",
   "execution_count": 0,
   "metadata": {
    "application/vnd.databricks.v1+cell": {
     "cellMetadata": {
      "byteLimit": 2048000,
      "rowLimit": 10000
     },
     "inputWidgets": {},
     "nuid": "3dab5bd2-8150-4afc-837a-8362f7d5438f",
     "showTitle": false,
     "title": ""
    }
   },
   "outputs": [
    {
     "output_type": "stream",
     "name": "stdout",
     "output_type": "stream",
     "text": [
      "/Volumes/streaming1/silver/checkpoints/(weather) (silver FV) Real-time Data Processing weather/\n"
     ]
    }
   ],
   "source": [
    "# Databricks notebook source\n",
    "\n",
    "\n",
    "# COMMAND ----------\n",
    "\n",
    "catalog_name = \"streaming1\"\n",
    "db_name = \"silver\"\n",
    "table_name='weather'\n",
    "\n",
    "\n",
    "\n",
    "dbutils.widgets.dropdown(\"trigger_available_now\", \"False\", [\"True\", \"False\"])\n",
    "trigger_available_now = dbutils.widgets.get(\"trigger_available_now\") == \"True\"\n",
    "\n",
    "notebook_name = DBUtils(spark).notebook.entry_point.getDbutils().notebook().getContext().notebookPath().get().split(\"/\")[-1].split(\".\")[0]\n",
    "checkpoint_path = f\"/Volumes/{catalog_name}/{db_name}/checkpoints/{notebook_name}/\"\n",
    "print(checkpoint_path)\n",
    "\n"
   ]
  },
  {
   "cell_type": "code",
   "execution_count": 0,
   "metadata": {
    "application/vnd.databricks.v1+cell": {
     "cellMetadata": {
      "byteLimit": 2048000,
      "rowLimit": 10000
     },
     "inputWidgets": {},
     "nuid": "67a92e2b-f934-4c52-b7e8-5d22b0100d6a",
     "showTitle": false,
     "title": ""
    }
   },
   "outputs": [],
   "source": [
    "\n",
    "try:\n",
    "    spark.sql(f\"create schema if not exists {catalog_name}.{db_name} ;\") \n",
    "except:\n",
    "    print('check if silver schema already exists')\n",
    "\n",
    "try:\n",
    "    spark.sql(f\"CREATE VOLUME IF NOT EXISTS {catalog_name}.{db_name}.checkpoints;\") \n",
    "except:\n",
    "    print('check if silver checkpoints already exists')\n",
    "\n",
    "\n"
   ]
  },
  {
   "cell_type": "markdown",
   "metadata": {
    "application/vnd.databricks.v1+cell": {
     "cellMetadata": {
      "byteLimit": 2048000,
      "rowLimit": 10000
     },
     "inputWidgets": {},
     "nuid": "dbee364e-6b7e-420f-8b98-8a12d663d880",
     "showTitle": false,
     "title": ""
    }
   },
   "source": [
    "#### Silver Layer"
   ]
  },
  {
   "cell_type": "code",
   "execution_count": 0,
   "metadata": {
    "application/vnd.databricks.v1+cell": {
     "cellMetadata": {
      "byteLimit": 2048000,
      "rowLimit": 10000
     },
     "inputWidgets": {},
     "nuid": "49fcf4c6-e334-4881-8126-4dfd2d9dd779",
     "showTitle": false,
     "title": ""
    }
   },
   "outputs": [],
   "source": [
    "json_schema = StructType([StructField(\"temperature\",StringType(),True),\n",
    "                      StructField(\"time\",StringType(),True),\n",
    "                      StructField(\"skycondition\", StringType(),True)])"
   ]
  },
  {
   "cell_type": "code",
   "execution_count": 0,
   "metadata": {
    "application/vnd.databricks.v1+cell": {
     "cellMetadata": {
      "byteLimit": 2048000,
      "rowLimit": 10000
     },
     "inputWidgets": {},
     "nuid": "5a02b566-ce89-435d-b456-880e088c357e",
     "showTitle": false,
     "title": ""
    }
   },
   "outputs": [
    {
     "output_type": "display_data",
     "data": {
      "text/html": [
       "<style scoped>\n",
       "  .table-result-container {\n",
       "    max-height: 300px;\n",
       "    overflow: auto;\n",
       "  }\n",
       "  table, th, td {\n",
       "    border: 1px solid black;\n",
       "    border-collapse: collapse;\n",
       "  }\n",
       "  th, td {\n",
       "    padding: 5px;\n",
       "  }\n",
       "  th {\n",
       "    text-align: left;\n",
       "  }\n",
       "</style><div class='table-result-container'><table class='table-result'><thead style='background-color: white'><tr><th>temperature</th><th>time</th><th>skycondition</th><th>timestamp</th></tr></thead><tbody><tr><td>22░C</td><td>Monday 8:43 p.m.</td><td>Clear</td><td>2024-09-10T00:44:23.937Z</td></tr><tr><td>22°C</td><td>Monday 8:44 p.m.</td><td>Clear</td><td>2024-09-10T00:45:34.033Z</td></tr><tr><td>22░C</td><td>Monday 8:45 p.m.</td><td>Clear</td><td>2024-09-10T00:46:44.175Z</td></tr><tr><td>22░C</td><td>Monday 8:46 p.m.</td><td>Clear</td><td>2024-09-10T00:47:55.287Z</td></tr><tr><td>22░C</td><td>Monday 8:48 p.m.</td><td>Clear</td><td>2024-09-10T00:49:05.805Z</td></tr><tr><td>22░C</td><td>Monday 8:42 p.m.</td><td>Clear</td><td>2024-09-10T00:43:14.138Z</td></tr><tr><td>22°C</td><td>Monday 8:49 p.m.</td><td>Clear</td><td>2024-09-10T00:50:15.934Z</td></tr><tr><td>22°C</td><td>Monday 8:50 p.m.</td><td>Clear</td><td>2024-09-10T00:51:26.39Z</td></tr></tbody></table></div>"
      ]
     },
     "metadata": {
      "application/vnd.databricks.v1+output": {
       "addedWidgets": {},
       "aggData": [],
       "aggError": "",
       "aggOverflow": false,
       "aggSchema": [],
       "aggSeriesLimitReached": false,
       "aggType": "",
       "arguments": {},
       "columnCustomDisplayInfos": {},
       "data": [
        [
         "22░C",
         "Monday 8:43 p.m.",
         "Clear",
         "2024-09-10T00:44:23.937Z"
        ],
        [
         "22°C",
         "Monday 8:44 p.m.",
         "Clear",
         "2024-09-10T00:45:34.033Z"
        ],
        [
         "22░C",
         "Monday 8:45 p.m.",
         "Clear",
         "2024-09-10T00:46:44.175Z"
        ],
        [
         "22░C",
         "Monday 8:46 p.m.",
         "Clear",
         "2024-09-10T00:47:55.287Z"
        ],
        [
         "22░C",
         "Monday 8:48 p.m.",
         "Clear",
         "2024-09-10T00:49:05.805Z"
        ],
        [
         "22░C",
         "Monday 8:42 p.m.",
         "Clear",
         "2024-09-10T00:43:14.138Z"
        ],
        [
         "22°C",
         "Monday 8:49 p.m.",
         "Clear",
         "2024-09-10T00:50:15.934Z"
        ],
        [
         "22°C",
         "Monday 8:50 p.m.",
         "Clear",
         "2024-09-10T00:51:26.39Z"
        ]
       ],
       "datasetInfos": [],
       "dbfsResultPath": null,
       "isJsonSchema": true,
       "metadata": {
        "isDbfsCommandResult": false
       },
       "overflow": false,
       "plotOptions": {
        "customPlotOptions": {},
        "displayType": "table",
        "pivotAggregation": null,
        "pivotColumns": null,
        "xColumns": null,
        "yColumns": null
       },
       "removedWidgets": [],
       "schema": [
        {
         "metadata": "{}",
         "name": "temperature",
         "type": "\"string\""
        },
        {
         "metadata": "{}",
         "name": "time",
         "type": "\"string\""
        },
        {
         "metadata": "{}",
         "name": "skycondition",
         "type": "\"string\""
        },
        {
         "metadata": "{}",
         "name": "timestamp",
         "type": "\"timestamp\""
        }
       ],
       "type": "table"
      }
     },
     "output_type": "display_data"
    }
   ],
   "source": [
    "# Reading and Transforming: Load streaming data from the 'streaming.bronze.weather' Delta table, cast 'body' to string, parse JSON, and select specific fields\n",
    "df = spark.readStream\\\n",
    "    .format(\"delta\")\\\n",
    "    .table(f\"{catalog_name}.bronze.{table_name}\")\\\n",
    "    .withColumn(\"body\", col(\"body\").cast(\"string\"))\\\n",
    "    .withColumn(\"body\",from_json(col(\"body\"), json_schema))\\\n",
    "    .select(\"body.temperature\",\"body.time\",\"body.skycondition\", col(\"enqueuedTime\").alias('timestamp'))\n",
    "\n",
    "\n",
    "\n",
    "\n",
    "# Displaying stream: Visualize the transformed data in the DataFrame for verification and analysis\n",
    "df.display()\n",
    "\n",
    "# Writing stream: Save the transformed data to the 'streaming.silver.weather' Delta table in 'append' mode with checkpointing for data reliability\n",
    "df.writeStream\\\n",
    "    .option(\"checkpointLocation\", checkpoint_path)\\\n",
    "    .outputMode(\"append\")\\\n",
    "    .format(\"delta\")\\\n",
    "    .toTable(f\"{catalog_name}.{db_name}.{table_name}\")"
   ]
  }
 ],
 "metadata": {
  "application/vnd.databricks.v1+notebook": {
   "dashboards": [],
   "environmentMetadata": {
    "base_environment": "",
    "client": "1"
   },
   "language": "python",
   "notebookMetadata": {
    "mostRecentlyExecutedCommandWithImplicitDF": {
     "commandId": 4016826182764860,
     "dataframes": [
      "_sqldf"
     ]
    },
    "pythonIndentUnit": 4
   },
   "notebookName": "(weather) (silver FV) Real-time Data Processing weather",
   "widgets": {
    "trigger_available_now": {
     "currentValue": "False",
     "nuid": "7456c25e-9327-4b82-b33d-7ef8475d9e97",
     "typedWidgetInfo": {
      "autoCreated": false,
      "defaultValue": "False",
      "label": null,
      "name": "trigger_available_now",
      "options": {
       "widgetDisplayType": "Dropdown",
       "choices": [
        "True",
        "False"
       ],
       "fixedDomain": true,
       "multiselect": false
      },
      "parameterDataType": "String"
     },
     "widgetInfo": {
      "widgetType": "dropdown",
      "defaultValue": "False",
      "label": null,
      "name": "trigger_available_now",
      "options": {
       "widgetType": "dropdown",
       "autoCreated": null,
       "choices": [
        "True",
        "False"
       ]
      }
     }
    }
   }
  },
  "language_info": {
   "name": "python"
  }
 },
 "nbformat": 4,
 "nbformat_minor": 0
}
